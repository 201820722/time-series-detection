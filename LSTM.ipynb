{
  "nbformat": 4,
  "nbformat_minor": 0,
  "metadata": {
    "colab": {
      "provenance": [],
      "authorship_tag": "ABX9TyMqSLfmTe2a6ip51YHlqRjF",
      "include_colab_link": true
    },
    "kernelspec": {
      "name": "python3",
      "display_name": "Python 3"
    },
    "language_info": {
      "name": "python"
    }
  },
  "cells": [
    {
      "cell_type": "markdown",
      "metadata": {
        "id": "view-in-github",
        "colab_type": "text"
      },
      "source": [
        "<a href=\"https://colab.research.google.com/github/201820722/time-series-detection/blob/main/LSTM.ipynb\" target=\"_parent\"><img src=\"https://colab.research.google.com/assets/colab-badge.svg\" alt=\"Open In Colab\"/></a>"
      ]
    },
    {
      "cell_type": "code",
      "source": [
        "from google.colab import drive\n",
        "drive.mount('/content/drive')"
      ],
      "metadata": {
        "id": "9TGQ60EdYJx-",
        "colab": {
          "base_uri": "https://localhost:8080/"
        },
        "outputId": "c853a8e1-ee11-4e31-92a8-c4601ed197d8"
      },
      "execution_count": null,
      "outputs": [
        {
          "output_type": "stream",
          "name": "stdout",
          "text": [
            "Drive already mounted at /content/drive; to attempt to forcibly remount, call drive.mount(\"/content/drive\", force_remount=True).\n"
          ]
        }
      ]
    },
    {
      "cell_type": "code",
      "source": [
        "%cd '/content/drive/MyDrive/Colab Notebooks'"
      ],
      "metadata": {
        "colab": {
          "base_uri": "https://localhost:8080/"
        },
        "id": "kt5-FhBncspt",
        "outputId": "537a1dd9-a861-41c3-ce82-5e9e0710ac72"
      },
      "execution_count": null,
      "outputs": [
        {
          "output_type": "stream",
          "name": "stdout",
          "text": [
            "/content/drive/MyDrive/Colab Notebooks\n"
          ]
        }
      ]
    },
    {
      "cell_type": "code",
      "execution_count": null,
      "metadata": {
        "id": "o2Iy8eYPXdQr"
      },
      "outputs": [],
      "source": [
        "import pandas as pd\n",
        "import matplotlib.dates as mdates\n",
        "import cv2\n",
        "import numpy as np\n",
        "import matplotlib.pyplot as plt\n",
        "from sklearn.preprocessing import StandardScaler, MinMaxScaler\n",
        "from PIL import Image"
      ]
    },
    {
      "cell_type": "code",
      "source": [
        "df = pd.read_csv('./Merged_Data.csv')\n",
        "df = df.drop(['12FW-BFPMST:CS'], axis=1)\n",
        "df = df.drop(['Time'], axis=1)"
      ],
      "metadata": {
        "id": "1NSCLRiOXqiP"
      },
      "execution_count": null,
      "outputs": []
    },
    {
      "cell_type": "code",
      "source": [
        "df.describe()"
      ],
      "metadata": {
        "colab": {
          "base_uri": "https://localhost:8080/",
          "height": 338
        },
        "id": "E2AjygYxc9UJ",
        "outputId": "fc66168a-af86-42e6-be43-282d8a3359a4"
      },
      "execution_count": null,
      "outputs": [
        {
          "output_type": "execute_result",
          "data": {
            "text/plain": [
              "        12CD-TE01B   12CW-TE01C   12CW-TE01D  12CW-TE02C-M  12CW-TE02D-M  \\\n",
              "count  3000.000000  3000.000000  3000.000000   3000.000000   3000.000000   \n",
              "mean      0.237962     0.335610     0.321585      0.162970      0.170781   \n",
              "std       0.058759     0.050999     0.053947      0.019438      0.019657   \n",
              "min       0.149076     0.181535     0.137715      0.094278      0.098974   \n",
              "25%       0.197470     0.312078     0.293064      0.154628      0.162052   \n",
              "50%       0.228103     0.336922     0.322840      0.165417      0.173725   \n",
              "75%       0.261514     0.370333     0.360151      0.176375      0.184553   \n",
              "max       0.409406     0.556530     0.449601      0.202212      0.213590   \n",
              "\n",
              "           12DH-MW   12DH-BSSPU   12CM-PT01B   12CM-TE01B  12MK-CVRP_BFPB  \\\n",
              "count  3000.000000  3000.000000  3000.000000  3000.000000     3000.000000   \n",
              "mean      0.000661     0.000345     0.997041     0.637571        0.023123   \n",
              "std       0.008396     0.000023     0.018072     0.096492        0.000577   \n",
              "min       0.000101     0.000263     0.555754     0.543706        0.021078   \n",
              "25%       0.000314     0.000330     0.996998     0.549232        0.022797   \n",
              "50%       0.000405     0.000346     0.997944     0.551049        0.023199   \n",
              "75%       0.000603     0.000361     0.998673     0.752711        0.023554   \n",
              "max       0.325642     0.000431     1.000000     0.764217        0.024116   \n",
              "\n",
              "        12HE-FT02B    12HE-PT05   12HE-TE02B  \n",
              "count  3000.000000  3000.000000  3000.000000  \n",
              "mean      0.092806     0.092179     0.002458  \n",
              "std       0.047180     0.000031     0.010855  \n",
              "min       0.000000     0.092095     0.000000  \n",
              "25%       0.052142     0.092157     0.001138  \n",
              "50%       0.105333     0.092171     0.001887  \n",
              "75%       0.117262     0.092193     0.003570  \n",
              "max       0.214311     0.092264     0.419333  "
            ],
            "text/html": [
              "\n",
              "  <div id=\"df-4400aec3-28ab-49eb-9a44-de0476343672\" class=\"colab-df-container\">\n",
              "    <div>\n",
              "<style scoped>\n",
              "    .dataframe tbody tr th:only-of-type {\n",
              "        vertical-align: middle;\n",
              "    }\n",
              "\n",
              "    .dataframe tbody tr th {\n",
              "        vertical-align: top;\n",
              "    }\n",
              "\n",
              "    .dataframe thead th {\n",
              "        text-align: right;\n",
              "    }\n",
              "</style>\n",
              "<table border=\"1\" class=\"dataframe\">\n",
              "  <thead>\n",
              "    <tr style=\"text-align: right;\">\n",
              "      <th></th>\n",
              "      <th>12CD-TE01B</th>\n",
              "      <th>12CW-TE01C</th>\n",
              "      <th>12CW-TE01D</th>\n",
              "      <th>12CW-TE02C-M</th>\n",
              "      <th>12CW-TE02D-M</th>\n",
              "      <th>12DH-MW</th>\n",
              "      <th>12DH-BSSPU</th>\n",
              "      <th>12CM-PT01B</th>\n",
              "      <th>12CM-TE01B</th>\n",
              "      <th>12MK-CVRP_BFPB</th>\n",
              "      <th>12HE-FT02B</th>\n",
              "      <th>12HE-PT05</th>\n",
              "      <th>12HE-TE02B</th>\n",
              "    </tr>\n",
              "  </thead>\n",
              "  <tbody>\n",
              "    <tr>\n",
              "      <th>count</th>\n",
              "      <td>3000.000000</td>\n",
              "      <td>3000.000000</td>\n",
              "      <td>3000.000000</td>\n",
              "      <td>3000.000000</td>\n",
              "      <td>3000.000000</td>\n",
              "      <td>3000.000000</td>\n",
              "      <td>3000.000000</td>\n",
              "      <td>3000.000000</td>\n",
              "      <td>3000.000000</td>\n",
              "      <td>3000.000000</td>\n",
              "      <td>3000.000000</td>\n",
              "      <td>3000.000000</td>\n",
              "      <td>3000.000000</td>\n",
              "    </tr>\n",
              "    <tr>\n",
              "      <th>mean</th>\n",
              "      <td>0.237962</td>\n",
              "      <td>0.335610</td>\n",
              "      <td>0.321585</td>\n",
              "      <td>0.162970</td>\n",
              "      <td>0.170781</td>\n",
              "      <td>0.000661</td>\n",
              "      <td>0.000345</td>\n",
              "      <td>0.997041</td>\n",
              "      <td>0.637571</td>\n",
              "      <td>0.023123</td>\n",
              "      <td>0.092806</td>\n",
              "      <td>0.092179</td>\n",
              "      <td>0.002458</td>\n",
              "    </tr>\n",
              "    <tr>\n",
              "      <th>std</th>\n",
              "      <td>0.058759</td>\n",
              "      <td>0.050999</td>\n",
              "      <td>0.053947</td>\n",
              "      <td>0.019438</td>\n",
              "      <td>0.019657</td>\n",
              "      <td>0.008396</td>\n",
              "      <td>0.000023</td>\n",
              "      <td>0.018072</td>\n",
              "      <td>0.096492</td>\n",
              "      <td>0.000577</td>\n",
              "      <td>0.047180</td>\n",
              "      <td>0.000031</td>\n",
              "      <td>0.010855</td>\n",
              "    </tr>\n",
              "    <tr>\n",
              "      <th>min</th>\n",
              "      <td>0.149076</td>\n",
              "      <td>0.181535</td>\n",
              "      <td>0.137715</td>\n",
              "      <td>0.094278</td>\n",
              "      <td>0.098974</td>\n",
              "      <td>0.000101</td>\n",
              "      <td>0.000263</td>\n",
              "      <td>0.555754</td>\n",
              "      <td>0.543706</td>\n",
              "      <td>0.021078</td>\n",
              "      <td>0.000000</td>\n",
              "      <td>0.092095</td>\n",
              "      <td>0.000000</td>\n",
              "    </tr>\n",
              "    <tr>\n",
              "      <th>25%</th>\n",
              "      <td>0.197470</td>\n",
              "      <td>0.312078</td>\n",
              "      <td>0.293064</td>\n",
              "      <td>0.154628</td>\n",
              "      <td>0.162052</td>\n",
              "      <td>0.000314</td>\n",
              "      <td>0.000330</td>\n",
              "      <td>0.996998</td>\n",
              "      <td>0.549232</td>\n",
              "      <td>0.022797</td>\n",
              "      <td>0.052142</td>\n",
              "      <td>0.092157</td>\n",
              "      <td>0.001138</td>\n",
              "    </tr>\n",
              "    <tr>\n",
              "      <th>50%</th>\n",
              "      <td>0.228103</td>\n",
              "      <td>0.336922</td>\n",
              "      <td>0.322840</td>\n",
              "      <td>0.165417</td>\n",
              "      <td>0.173725</td>\n",
              "      <td>0.000405</td>\n",
              "      <td>0.000346</td>\n",
              "      <td>0.997944</td>\n",
              "      <td>0.551049</td>\n",
              "      <td>0.023199</td>\n",
              "      <td>0.105333</td>\n",
              "      <td>0.092171</td>\n",
              "      <td>0.001887</td>\n",
              "    </tr>\n",
              "    <tr>\n",
              "      <th>75%</th>\n",
              "      <td>0.261514</td>\n",
              "      <td>0.370333</td>\n",
              "      <td>0.360151</td>\n",
              "      <td>0.176375</td>\n",
              "      <td>0.184553</td>\n",
              "      <td>0.000603</td>\n",
              "      <td>0.000361</td>\n",
              "      <td>0.998673</td>\n",
              "      <td>0.752711</td>\n",
              "      <td>0.023554</td>\n",
              "      <td>0.117262</td>\n",
              "      <td>0.092193</td>\n",
              "      <td>0.003570</td>\n",
              "    </tr>\n",
              "    <tr>\n",
              "      <th>max</th>\n",
              "      <td>0.409406</td>\n",
              "      <td>0.556530</td>\n",
              "      <td>0.449601</td>\n",
              "      <td>0.202212</td>\n",
              "      <td>0.213590</td>\n",
              "      <td>0.325642</td>\n",
              "      <td>0.000431</td>\n",
              "      <td>1.000000</td>\n",
              "      <td>0.764217</td>\n",
              "      <td>0.024116</td>\n",
              "      <td>0.214311</td>\n",
              "      <td>0.092264</td>\n",
              "      <td>0.419333</td>\n",
              "    </tr>\n",
              "  </tbody>\n",
              "</table>\n",
              "</div>\n",
              "    <div class=\"colab-df-buttons\">\n",
              "\n",
              "  <div class=\"colab-df-container\">\n",
              "    <button class=\"colab-df-convert\" onclick=\"convertToInteractive('df-4400aec3-28ab-49eb-9a44-de0476343672')\"\n",
              "            title=\"Convert this dataframe to an interactive table.\"\n",
              "            style=\"display:none;\">\n",
              "\n",
              "  <svg xmlns=\"http://www.w3.org/2000/svg\" height=\"24px\" viewBox=\"0 -960 960 960\">\n",
              "    <path d=\"M120-120v-720h720v720H120Zm60-500h600v-160H180v160Zm220 220h160v-160H400v160Zm0 220h160v-160H400v160ZM180-400h160v-160H180v160Zm440 0h160v-160H620v160ZM180-180h160v-160H180v160Zm440 0h160v-160H620v160Z\"/>\n",
              "  </svg>\n",
              "    </button>\n",
              "\n",
              "  <style>\n",
              "    .colab-df-container {\n",
              "      display:flex;\n",
              "      gap: 12px;\n",
              "    }\n",
              "\n",
              "    .colab-df-convert {\n",
              "      background-color: #E8F0FE;\n",
              "      border: none;\n",
              "      border-radius: 50%;\n",
              "      cursor: pointer;\n",
              "      display: none;\n",
              "      fill: #1967D2;\n",
              "      height: 32px;\n",
              "      padding: 0 0 0 0;\n",
              "      width: 32px;\n",
              "    }\n",
              "\n",
              "    .colab-df-convert:hover {\n",
              "      background-color: #E2EBFA;\n",
              "      box-shadow: 0px 1px 2px rgba(60, 64, 67, 0.3), 0px 1px 3px 1px rgba(60, 64, 67, 0.15);\n",
              "      fill: #174EA6;\n",
              "    }\n",
              "\n",
              "    .colab-df-buttons div {\n",
              "      margin-bottom: 4px;\n",
              "    }\n",
              "\n",
              "    [theme=dark] .colab-df-convert {\n",
              "      background-color: #3B4455;\n",
              "      fill: #D2E3FC;\n",
              "    }\n",
              "\n",
              "    [theme=dark] .colab-df-convert:hover {\n",
              "      background-color: #434B5C;\n",
              "      box-shadow: 0px 1px 3px 1px rgba(0, 0, 0, 0.15);\n",
              "      filter: drop-shadow(0px 1px 2px rgba(0, 0, 0, 0.3));\n",
              "      fill: #FFFFFF;\n",
              "    }\n",
              "  </style>\n",
              "\n",
              "    <script>\n",
              "      const buttonEl =\n",
              "        document.querySelector('#df-4400aec3-28ab-49eb-9a44-de0476343672 button.colab-df-convert');\n",
              "      buttonEl.style.display =\n",
              "        google.colab.kernel.accessAllowed ? 'block' : 'none';\n",
              "\n",
              "      async function convertToInteractive(key) {\n",
              "        const element = document.querySelector('#df-4400aec3-28ab-49eb-9a44-de0476343672');\n",
              "        const dataTable =\n",
              "          await google.colab.kernel.invokeFunction('convertToInteractive',\n",
              "                                                    [key], {});\n",
              "        if (!dataTable) return;\n",
              "\n",
              "        const docLinkHtml = 'Like what you see? Visit the ' +\n",
              "          '<a target=\"_blank\" href=https://colab.research.google.com/notebooks/data_table.ipynb>data table notebook</a>'\n",
              "          + ' to learn more about interactive tables.';\n",
              "        element.innerHTML = '';\n",
              "        dataTable['output_type'] = 'display_data';\n",
              "        await google.colab.output.renderOutput(dataTable, element);\n",
              "        const docLink = document.createElement('div');\n",
              "        docLink.innerHTML = docLinkHtml;\n",
              "        element.appendChild(docLink);\n",
              "      }\n",
              "    </script>\n",
              "  </div>\n",
              "\n",
              "\n",
              "<div id=\"df-fc20b0f5-1317-424f-9703-0cda0485a311\">\n",
              "  <button class=\"colab-df-quickchart\" onclick=\"quickchart('df-fc20b0f5-1317-424f-9703-0cda0485a311')\"\n",
              "            title=\"Suggest charts\"\n",
              "            style=\"display:none;\">\n",
              "\n",
              "<svg xmlns=\"http://www.w3.org/2000/svg\" height=\"24px\"viewBox=\"0 0 24 24\"\n",
              "     width=\"24px\">\n",
              "    <g>\n",
              "        <path d=\"M19 3H5c-1.1 0-2 .9-2 2v14c0 1.1.9 2 2 2h14c1.1 0 2-.9 2-2V5c0-1.1-.9-2-2-2zM9 17H7v-7h2v7zm4 0h-2V7h2v10zm4 0h-2v-4h2v4z\"/>\n",
              "    </g>\n",
              "</svg>\n",
              "  </button>\n",
              "\n",
              "<style>\n",
              "  .colab-df-quickchart {\n",
              "      --bg-color: #E8F0FE;\n",
              "      --fill-color: #1967D2;\n",
              "      --hover-bg-color: #E2EBFA;\n",
              "      --hover-fill-color: #174EA6;\n",
              "      --disabled-fill-color: #AAA;\n",
              "      --disabled-bg-color: #DDD;\n",
              "  }\n",
              "\n",
              "  [theme=dark] .colab-df-quickchart {\n",
              "      --bg-color: #3B4455;\n",
              "      --fill-color: #D2E3FC;\n",
              "      --hover-bg-color: #434B5C;\n",
              "      --hover-fill-color: #FFFFFF;\n",
              "      --disabled-bg-color: #3B4455;\n",
              "      --disabled-fill-color: #666;\n",
              "  }\n",
              "\n",
              "  .colab-df-quickchart {\n",
              "    background-color: var(--bg-color);\n",
              "    border: none;\n",
              "    border-radius: 50%;\n",
              "    cursor: pointer;\n",
              "    display: none;\n",
              "    fill: var(--fill-color);\n",
              "    height: 32px;\n",
              "    padding: 0;\n",
              "    width: 32px;\n",
              "  }\n",
              "\n",
              "  .colab-df-quickchart:hover {\n",
              "    background-color: var(--hover-bg-color);\n",
              "    box-shadow: 0 1px 2px rgba(60, 64, 67, 0.3), 0 1px 3px 1px rgba(60, 64, 67, 0.15);\n",
              "    fill: var(--button-hover-fill-color);\n",
              "  }\n",
              "\n",
              "  .colab-df-quickchart-complete:disabled,\n",
              "  .colab-df-quickchart-complete:disabled:hover {\n",
              "    background-color: var(--disabled-bg-color);\n",
              "    fill: var(--disabled-fill-color);\n",
              "    box-shadow: none;\n",
              "  }\n",
              "\n",
              "  .colab-df-spinner {\n",
              "    border: 2px solid var(--fill-color);\n",
              "    border-color: transparent;\n",
              "    border-bottom-color: var(--fill-color);\n",
              "    animation:\n",
              "      spin 1s steps(1) infinite;\n",
              "  }\n",
              "\n",
              "  @keyframes spin {\n",
              "    0% {\n",
              "      border-color: transparent;\n",
              "      border-bottom-color: var(--fill-color);\n",
              "      border-left-color: var(--fill-color);\n",
              "    }\n",
              "    20% {\n",
              "      border-color: transparent;\n",
              "      border-left-color: var(--fill-color);\n",
              "      border-top-color: var(--fill-color);\n",
              "    }\n",
              "    30% {\n",
              "      border-color: transparent;\n",
              "      border-left-color: var(--fill-color);\n",
              "      border-top-color: var(--fill-color);\n",
              "      border-right-color: var(--fill-color);\n",
              "    }\n",
              "    40% {\n",
              "      border-color: transparent;\n",
              "      border-right-color: var(--fill-color);\n",
              "      border-top-color: var(--fill-color);\n",
              "    }\n",
              "    60% {\n",
              "      border-color: transparent;\n",
              "      border-right-color: var(--fill-color);\n",
              "    }\n",
              "    80% {\n",
              "      border-color: transparent;\n",
              "      border-right-color: var(--fill-color);\n",
              "      border-bottom-color: var(--fill-color);\n",
              "    }\n",
              "    90% {\n",
              "      border-color: transparent;\n",
              "      border-bottom-color: var(--fill-color);\n",
              "    }\n",
              "  }\n",
              "</style>\n",
              "\n",
              "  <script>\n",
              "    async function quickchart(key) {\n",
              "      const quickchartButtonEl =\n",
              "        document.querySelector('#' + key + ' button');\n",
              "      quickchartButtonEl.disabled = true;  // To prevent multiple clicks.\n",
              "      quickchartButtonEl.classList.add('colab-df-spinner');\n",
              "      try {\n",
              "        const charts = await google.colab.kernel.invokeFunction(\n",
              "            'suggestCharts', [key], {});\n",
              "      } catch (error) {\n",
              "        console.error('Error during call to suggestCharts:', error);\n",
              "      }\n",
              "      quickchartButtonEl.classList.remove('colab-df-spinner');\n",
              "      quickchartButtonEl.classList.add('colab-df-quickchart-complete');\n",
              "    }\n",
              "    (() => {\n",
              "      let quickchartButtonEl =\n",
              "        document.querySelector('#df-fc20b0f5-1317-424f-9703-0cda0485a311 button');\n",
              "      quickchartButtonEl.style.display =\n",
              "        google.colab.kernel.accessAllowed ? 'block' : 'none';\n",
              "    })();\n",
              "  </script>\n",
              "</div>\n",
              "    </div>\n",
              "  </div>\n"
            ]
          },
          "metadata": {},
          "execution_count": 7
        }
      ]
    },
    {
      "cell_type": "code",
      "source": [
        "print(df.max())\n",
        "print(df.min())"
      ],
      "metadata": {
        "colab": {
          "base_uri": "https://localhost:8080/"
        },
        "id": "R6FbwmH3MpZg",
        "outputId": "11c6b337-09f5-4334-81ce-062f08e00d12"
      },
      "execution_count": null,
      "outputs": [
        {
          "output_type": "stream",
          "name": "stdout",
          "text": [
            "12CD-TE01B        0.409406\n",
            "12CW-TE01C        0.556530\n",
            "12CW-TE01D        0.449601\n",
            "12CW-TE02C-M      0.202212\n",
            "12CW-TE02D-M      0.213590\n",
            "12DH-MW           0.325642\n",
            "12DH-BSSPU        0.000431\n",
            "12CM-PT01B        1.000000\n",
            "12CM-TE01B        0.764217\n",
            "12MK-CVRP_BFPB    0.024116\n",
            "12HE-FT02B        0.214311\n",
            "12HE-PT05         0.092264\n",
            "12HE-TE02B        0.419333\n",
            "dtype: float64\n",
            "12CD-TE01B        0.149076\n",
            "12CW-TE01C        0.181535\n",
            "12CW-TE01D        0.137715\n",
            "12CW-TE02C-M      0.094278\n",
            "12CW-TE02D-M      0.098974\n",
            "12DH-MW           0.000101\n",
            "12DH-BSSPU        0.000263\n",
            "12CM-PT01B        0.555754\n",
            "12CM-TE01B        0.543706\n",
            "12MK-CVRP_BFPB    0.021078\n",
            "12HE-FT02B        0.000000\n",
            "12HE-PT05         0.092095\n",
            "12HE-TE02B        0.000000\n",
            "dtype: float64\n"
          ]
        }
      ]
    },
    {
      "cell_type": "code",
      "source": [
        "scaler = MinMaxScaler()\n",
        "scaler.fit(df)\n",
        "scaled_df = scaler.transform(df)\n",
        "scaled_df = pd.DataFrame(scaled_df, columns=df.columns)\n",
        "scaled_df.describe()"
      ],
      "metadata": {
        "colab": {
          "base_uri": "https://localhost:8080/",
          "height": 300
        },
        "id": "clxQ5O4QLBOs",
        "outputId": "798f3f52-ec38-42c6-a6de-2e1ad5ab14f0"
      },
      "execution_count": null,
      "outputs": [
        {
          "output_type": "execute_result",
          "data": {
            "text/plain": [
              "        12CD-TE01B   12CW-TE01C   12CW-TE01D  12CW-TE02C-M  12CW-TE02D-M  \\\n",
              "count  3000.000000  3000.000000  3000.000000   3000.000000   3000.000000   \n",
              "mean      0.341436     0.410873     0.589543      0.636424      0.626502   \n",
              "std       0.225709     0.135999     0.172970      0.180094      0.171499   \n",
              "min       0.000000     0.000000     0.000000      0.000000      0.000000   \n",
              "25%       0.185895     0.348121     0.498097      0.559134      0.550342   \n",
              "50%       0.303564     0.414372     0.593568      0.659101      0.652184   \n",
              "75%       0.431907     0.503468     0.713197      0.760625      0.746657   \n",
              "max       1.000000     1.000000     1.000000      1.000000      1.000000   \n",
              "\n",
              "           12DH-MW   12DH-BSSPU   12CM-PT01B   12CM-TE01B  12MK-CVRP_BFPB  \\\n",
              "count  3000.000000  3000.000000  3000.000000  3000.000000     3000.000000   \n",
              "mean      0.001720     0.487218     0.993340     0.425670        0.673186   \n",
              "std       0.025792     0.134257     0.040681     0.437582        0.190016   \n",
              "min       0.000000     0.000000     0.000000     0.000000        0.000000   \n",
              "25%       0.000655     0.399365     0.993242     0.025061        0.565735   \n",
              "50%       0.000934     0.491613     0.995372     0.033299        0.697991   \n",
              "75%       0.001542     0.582793     0.997013     0.947824        0.815080   \n",
              "max       1.000000     1.000000     1.000000     1.000000        1.000000   \n",
              "\n",
              "        12HE-FT02B    12HE-PT05   12HE-TE02B  \n",
              "count  3000.000000  3000.000000  3000.000000  \n",
              "mean      0.433044     0.497173     0.005862  \n",
              "std       0.220148     0.183292     0.025886  \n",
              "min       0.000000     0.000000     0.000000  \n",
              "25%       0.243302     0.367404     0.002715  \n",
              "50%       0.491494     0.446395     0.004501  \n",
              "75%       0.547156     0.576093     0.008515  \n",
              "max       1.000000     1.000000     1.000000  "
            ],
            "text/html": [
              "\n",
              "  <div id=\"df-7fa7c519-1fa7-4f70-ba43-670800f79bc7\" class=\"colab-df-container\">\n",
              "    <div>\n",
              "<style scoped>\n",
              "    .dataframe tbody tr th:only-of-type {\n",
              "        vertical-align: middle;\n",
              "    }\n",
              "\n",
              "    .dataframe tbody tr th {\n",
              "        vertical-align: top;\n",
              "    }\n",
              "\n",
              "    .dataframe thead th {\n",
              "        text-align: right;\n",
              "    }\n",
              "</style>\n",
              "<table border=\"1\" class=\"dataframe\">\n",
              "  <thead>\n",
              "    <tr style=\"text-align: right;\">\n",
              "      <th></th>\n",
              "      <th>12CD-TE01B</th>\n",
              "      <th>12CW-TE01C</th>\n",
              "      <th>12CW-TE01D</th>\n",
              "      <th>12CW-TE02C-M</th>\n",
              "      <th>12CW-TE02D-M</th>\n",
              "      <th>12DH-MW</th>\n",
              "      <th>12DH-BSSPU</th>\n",
              "      <th>12CM-PT01B</th>\n",
              "      <th>12CM-TE01B</th>\n",
              "      <th>12MK-CVRP_BFPB</th>\n",
              "      <th>12HE-FT02B</th>\n",
              "      <th>12HE-PT05</th>\n",
              "      <th>12HE-TE02B</th>\n",
              "    </tr>\n",
              "  </thead>\n",
              "  <tbody>\n",
              "    <tr>\n",
              "      <th>count</th>\n",
              "      <td>3000.000000</td>\n",
              "      <td>3000.000000</td>\n",
              "      <td>3000.000000</td>\n",
              "      <td>3000.000000</td>\n",
              "      <td>3000.000000</td>\n",
              "      <td>3000.000000</td>\n",
              "      <td>3000.000000</td>\n",
              "      <td>3000.000000</td>\n",
              "      <td>3000.000000</td>\n",
              "      <td>3000.000000</td>\n",
              "      <td>3000.000000</td>\n",
              "      <td>3000.000000</td>\n",
              "      <td>3000.000000</td>\n",
              "    </tr>\n",
              "    <tr>\n",
              "      <th>mean</th>\n",
              "      <td>0.341436</td>\n",
              "      <td>0.410873</td>\n",
              "      <td>0.589543</td>\n",
              "      <td>0.636424</td>\n",
              "      <td>0.626502</td>\n",
              "      <td>0.001720</td>\n",
              "      <td>0.487218</td>\n",
              "      <td>0.993340</td>\n",
              "      <td>0.425670</td>\n",
              "      <td>0.673186</td>\n",
              "      <td>0.433044</td>\n",
              "      <td>0.497173</td>\n",
              "      <td>0.005862</td>\n",
              "    </tr>\n",
              "    <tr>\n",
              "      <th>std</th>\n",
              "      <td>0.225709</td>\n",
              "      <td>0.135999</td>\n",
              "      <td>0.172970</td>\n",
              "      <td>0.180094</td>\n",
              "      <td>0.171499</td>\n",
              "      <td>0.025792</td>\n",
              "      <td>0.134257</td>\n",
              "      <td>0.040681</td>\n",
              "      <td>0.437582</td>\n",
              "      <td>0.190016</td>\n",
              "      <td>0.220148</td>\n",
              "      <td>0.183292</td>\n",
              "      <td>0.025886</td>\n",
              "    </tr>\n",
              "    <tr>\n",
              "      <th>min</th>\n",
              "      <td>0.000000</td>\n",
              "      <td>0.000000</td>\n",
              "      <td>0.000000</td>\n",
              "      <td>0.000000</td>\n",
              "      <td>0.000000</td>\n",
              "      <td>0.000000</td>\n",
              "      <td>0.000000</td>\n",
              "      <td>0.000000</td>\n",
              "      <td>0.000000</td>\n",
              "      <td>0.000000</td>\n",
              "      <td>0.000000</td>\n",
              "      <td>0.000000</td>\n",
              "      <td>0.000000</td>\n",
              "    </tr>\n",
              "    <tr>\n",
              "      <th>25%</th>\n",
              "      <td>0.185895</td>\n",
              "      <td>0.348121</td>\n",
              "      <td>0.498097</td>\n",
              "      <td>0.559134</td>\n",
              "      <td>0.550342</td>\n",
              "      <td>0.000655</td>\n",
              "      <td>0.399365</td>\n",
              "      <td>0.993242</td>\n",
              "      <td>0.025061</td>\n",
              "      <td>0.565735</td>\n",
              "      <td>0.243302</td>\n",
              "      <td>0.367404</td>\n",
              "      <td>0.002715</td>\n",
              "    </tr>\n",
              "    <tr>\n",
              "      <th>50%</th>\n",
              "      <td>0.303564</td>\n",
              "      <td>0.414372</td>\n",
              "      <td>0.593568</td>\n",
              "      <td>0.659101</td>\n",
              "      <td>0.652184</td>\n",
              "      <td>0.000934</td>\n",
              "      <td>0.491613</td>\n",
              "      <td>0.995372</td>\n",
              "      <td>0.033299</td>\n",
              "      <td>0.697991</td>\n",
              "      <td>0.491494</td>\n",
              "      <td>0.446395</td>\n",
              "      <td>0.004501</td>\n",
              "    </tr>\n",
              "    <tr>\n",
              "      <th>75%</th>\n",
              "      <td>0.431907</td>\n",
              "      <td>0.503468</td>\n",
              "      <td>0.713197</td>\n",
              "      <td>0.760625</td>\n",
              "      <td>0.746657</td>\n",
              "      <td>0.001542</td>\n",
              "      <td>0.582793</td>\n",
              "      <td>0.997013</td>\n",
              "      <td>0.947824</td>\n",
              "      <td>0.815080</td>\n",
              "      <td>0.547156</td>\n",
              "      <td>0.576093</td>\n",
              "      <td>0.008515</td>\n",
              "    </tr>\n",
              "    <tr>\n",
              "      <th>max</th>\n",
              "      <td>1.000000</td>\n",
              "      <td>1.000000</td>\n",
              "      <td>1.000000</td>\n",
              "      <td>1.000000</td>\n",
              "      <td>1.000000</td>\n",
              "      <td>1.000000</td>\n",
              "      <td>1.000000</td>\n",
              "      <td>1.000000</td>\n",
              "      <td>1.000000</td>\n",
              "      <td>1.000000</td>\n",
              "      <td>1.000000</td>\n",
              "      <td>1.000000</td>\n",
              "      <td>1.000000</td>\n",
              "    </tr>\n",
              "  </tbody>\n",
              "</table>\n",
              "</div>\n",
              "    <div class=\"colab-df-buttons\">\n",
              "\n",
              "  <div class=\"colab-df-container\">\n",
              "    <button class=\"colab-df-convert\" onclick=\"convertToInteractive('df-7fa7c519-1fa7-4f70-ba43-670800f79bc7')\"\n",
              "            title=\"Convert this dataframe to an interactive table.\"\n",
              "            style=\"display:none;\">\n",
              "\n",
              "  <svg xmlns=\"http://www.w3.org/2000/svg\" height=\"24px\" viewBox=\"0 -960 960 960\">\n",
              "    <path d=\"M120-120v-720h720v720H120Zm60-500h600v-160H180v160Zm220 220h160v-160H400v160Zm0 220h160v-160H400v160ZM180-400h160v-160H180v160Zm440 0h160v-160H620v160ZM180-180h160v-160H180v160Zm440 0h160v-160H620v160Z\"/>\n",
              "  </svg>\n",
              "    </button>\n",
              "\n",
              "  <style>\n",
              "    .colab-df-container {\n",
              "      display:flex;\n",
              "      gap: 12px;\n",
              "    }\n",
              "\n",
              "    .colab-df-convert {\n",
              "      background-color: #E8F0FE;\n",
              "      border: none;\n",
              "      border-radius: 50%;\n",
              "      cursor: pointer;\n",
              "      display: none;\n",
              "      fill: #1967D2;\n",
              "      height: 32px;\n",
              "      padding: 0 0 0 0;\n",
              "      width: 32px;\n",
              "    }\n",
              "\n",
              "    .colab-df-convert:hover {\n",
              "      background-color: #E2EBFA;\n",
              "      box-shadow: 0px 1px 2px rgba(60, 64, 67, 0.3), 0px 1px 3px 1px rgba(60, 64, 67, 0.15);\n",
              "      fill: #174EA6;\n",
              "    }\n",
              "\n",
              "    .colab-df-buttons div {\n",
              "      margin-bottom: 4px;\n",
              "    }\n",
              "\n",
              "    [theme=dark] .colab-df-convert {\n",
              "      background-color: #3B4455;\n",
              "      fill: #D2E3FC;\n",
              "    }\n",
              "\n",
              "    [theme=dark] .colab-df-convert:hover {\n",
              "      background-color: #434B5C;\n",
              "      box-shadow: 0px 1px 3px 1px rgba(0, 0, 0, 0.15);\n",
              "      filter: drop-shadow(0px 1px 2px rgba(0, 0, 0, 0.3));\n",
              "      fill: #FFFFFF;\n",
              "    }\n",
              "  </style>\n",
              "\n",
              "    <script>\n",
              "      const buttonEl =\n",
              "        document.querySelector('#df-7fa7c519-1fa7-4f70-ba43-670800f79bc7 button.colab-df-convert');\n",
              "      buttonEl.style.display =\n",
              "        google.colab.kernel.accessAllowed ? 'block' : 'none';\n",
              "\n",
              "      async function convertToInteractive(key) {\n",
              "        const element = document.querySelector('#df-7fa7c519-1fa7-4f70-ba43-670800f79bc7');\n",
              "        const dataTable =\n",
              "          await google.colab.kernel.invokeFunction('convertToInteractive',\n",
              "                                                    [key], {});\n",
              "        if (!dataTable) return;\n",
              "\n",
              "        const docLinkHtml = 'Like what you see? Visit the ' +\n",
              "          '<a target=\"_blank\" href=https://colab.research.google.com/notebooks/data_table.ipynb>data table notebook</a>'\n",
              "          + ' to learn more about interactive tables.';\n",
              "        element.innerHTML = '';\n",
              "        dataTable['output_type'] = 'display_data';\n",
              "        await google.colab.output.renderOutput(dataTable, element);\n",
              "        const docLink = document.createElement('div');\n",
              "        docLink.innerHTML = docLinkHtml;\n",
              "        element.appendChild(docLink);\n",
              "      }\n",
              "    </script>\n",
              "  </div>\n",
              "\n",
              "\n",
              "<div id=\"df-d5610f6d-0f22-4408-9c2a-3ef30db1a66a\">\n",
              "  <button class=\"colab-df-quickchart\" onclick=\"quickchart('df-d5610f6d-0f22-4408-9c2a-3ef30db1a66a')\"\n",
              "            title=\"Suggest charts\"\n",
              "            style=\"display:none;\">\n",
              "\n",
              "<svg xmlns=\"http://www.w3.org/2000/svg\" height=\"24px\"viewBox=\"0 0 24 24\"\n",
              "     width=\"24px\">\n",
              "    <g>\n",
              "        <path d=\"M19 3H5c-1.1 0-2 .9-2 2v14c0 1.1.9 2 2 2h14c1.1 0 2-.9 2-2V5c0-1.1-.9-2-2-2zM9 17H7v-7h2v7zm4 0h-2V7h2v10zm4 0h-2v-4h2v4z\"/>\n",
              "    </g>\n",
              "</svg>\n",
              "  </button>\n",
              "\n",
              "<style>\n",
              "  .colab-df-quickchart {\n",
              "      --bg-color: #E8F0FE;\n",
              "      --fill-color: #1967D2;\n",
              "      --hover-bg-color: #E2EBFA;\n",
              "      --hover-fill-color: #174EA6;\n",
              "      --disabled-fill-color: #AAA;\n",
              "      --disabled-bg-color: #DDD;\n",
              "  }\n",
              "\n",
              "  [theme=dark] .colab-df-quickchart {\n",
              "      --bg-color: #3B4455;\n",
              "      --fill-color: #D2E3FC;\n",
              "      --hover-bg-color: #434B5C;\n",
              "      --hover-fill-color: #FFFFFF;\n",
              "      --disabled-bg-color: #3B4455;\n",
              "      --disabled-fill-color: #666;\n",
              "  }\n",
              "\n",
              "  .colab-df-quickchart {\n",
              "    background-color: var(--bg-color);\n",
              "    border: none;\n",
              "    border-radius: 50%;\n",
              "    cursor: pointer;\n",
              "    display: none;\n",
              "    fill: var(--fill-color);\n",
              "    height: 32px;\n",
              "    padding: 0;\n",
              "    width: 32px;\n",
              "  }\n",
              "\n",
              "  .colab-df-quickchart:hover {\n",
              "    background-color: var(--hover-bg-color);\n",
              "    box-shadow: 0 1px 2px rgba(60, 64, 67, 0.3), 0 1px 3px 1px rgba(60, 64, 67, 0.15);\n",
              "    fill: var(--button-hover-fill-color);\n",
              "  }\n",
              "\n",
              "  .colab-df-quickchart-complete:disabled,\n",
              "  .colab-df-quickchart-complete:disabled:hover {\n",
              "    background-color: var(--disabled-bg-color);\n",
              "    fill: var(--disabled-fill-color);\n",
              "    box-shadow: none;\n",
              "  }\n",
              "\n",
              "  .colab-df-spinner {\n",
              "    border: 2px solid var(--fill-color);\n",
              "    border-color: transparent;\n",
              "    border-bottom-color: var(--fill-color);\n",
              "    animation:\n",
              "      spin 1s steps(1) infinite;\n",
              "  }\n",
              "\n",
              "  @keyframes spin {\n",
              "    0% {\n",
              "      border-color: transparent;\n",
              "      border-bottom-color: var(--fill-color);\n",
              "      border-left-color: var(--fill-color);\n",
              "    }\n",
              "    20% {\n",
              "      border-color: transparent;\n",
              "      border-left-color: var(--fill-color);\n",
              "      border-top-color: var(--fill-color);\n",
              "    }\n",
              "    30% {\n",
              "      border-color: transparent;\n",
              "      border-left-color: var(--fill-color);\n",
              "      border-top-color: var(--fill-color);\n",
              "      border-right-color: var(--fill-color);\n",
              "    }\n",
              "    40% {\n",
              "      border-color: transparent;\n",
              "      border-right-color: var(--fill-color);\n",
              "      border-top-color: var(--fill-color);\n",
              "    }\n",
              "    60% {\n",
              "      border-color: transparent;\n",
              "      border-right-color: var(--fill-color);\n",
              "    }\n",
              "    80% {\n",
              "      border-color: transparent;\n",
              "      border-right-color: var(--fill-color);\n",
              "      border-bottom-color: var(--fill-color);\n",
              "    }\n",
              "    90% {\n",
              "      border-color: transparent;\n",
              "      border-bottom-color: var(--fill-color);\n",
              "    }\n",
              "  }\n",
              "</style>\n",
              "\n",
              "  <script>\n",
              "    async function quickchart(key) {\n",
              "      const quickchartButtonEl =\n",
              "        document.querySelector('#' + key + ' button');\n",
              "      quickchartButtonEl.disabled = true;  // To prevent multiple clicks.\n",
              "      quickchartButtonEl.classList.add('colab-df-spinner');\n",
              "      try {\n",
              "        const charts = await google.colab.kernel.invokeFunction(\n",
              "            'suggestCharts', [key], {});\n",
              "      } catch (error) {\n",
              "        console.error('Error during call to suggestCharts:', error);\n",
              "      }\n",
              "      quickchartButtonEl.classList.remove('colab-df-spinner');\n",
              "      quickchartButtonEl.classList.add('colab-df-quickchart-complete');\n",
              "    }\n",
              "    (() => {\n",
              "      let quickchartButtonEl =\n",
              "        document.querySelector('#df-d5610f6d-0f22-4408-9c2a-3ef30db1a66a button');\n",
              "      quickchartButtonEl.style.display =\n",
              "        google.colab.kernel.accessAllowed ? 'block' : 'none';\n",
              "    })();\n",
              "  </script>\n",
              "</div>\n",
              "    </div>\n",
              "  </div>\n"
            ]
          },
          "metadata": {},
          "execution_count": 6
        }
      ]
    },
    {
      "cell_type": "code",
      "source": [
        "tmp = scaled_df['12CD-TE01B'].to_list()\n",
        "arr = np.array(tmp)\n",
        "for i in range(len(arr)):\n",
        "  arr[i] = arr[i]*255\n",
        "arr = np.array(arr, dtype=np.int64)\n",
        "print(arr)"
      ],
      "metadata": {
        "colab": {
          "base_uri": "https://localhost:8080/"
        },
        "id": "35eFC7YTGnEt",
        "outputId": "364c692c-2de8-4a0f-ce3d-c1459e832099"
      },
      "execution_count": null,
      "outputs": [
        {
          "output_type": "stream",
          "name": "stdout",
          "text": [
            "[89 88 89 ...  0  2  2]\n"
          ]
        }
      ]
    },
    {
      "cell_type": "code",
      "source": [
        "arr = np.reshape(arr, (60, 50))\n",
        "img = Image.fromarray(arr.astype(np.uint8))\n",
        "plt.imshow(img)\n",
        "print(type(img))\n",
        "img.save('/content/drive/MyDrive/Colab Notebooks/output1.png', 'png')"
      ],
      "metadata": {
        "colab": {
          "base_uri": "https://localhost:8080/",
          "height": 450
        },
        "id": "aHYdm2B7UvAz",
        "outputId": "ea98ab6a-3241-439a-823c-bf8a849cf7dc"
      },
      "execution_count": null,
      "outputs": [
        {
          "output_type": "stream",
          "name": "stdout",
          "text": [
            "<class 'PIL.Image.Image'>\n"
          ]
        },
        {
          "output_type": "display_data",
          "data": {
            "text/plain": [
              "<Figure size 640x480 with 1 Axes>"
            ],
            "image/png": "[encoded data removed]"
          },
          "metadata": {}
        }
      ]
    },
    {
      "cell_type": "code",
      "source": [
        "img = cv2.imread('/content/drive/MyDrive/Colab Notebooks/output1.png')\n",
        "plt.imshow(img)\n",
        "b,g,r = cv2.split(img)\n",
        "img = cv2.merge([r,g,b])\n",
        "img = cv2.cvtColor(img, cv2.COLOR_BGR2GRAY)"
      ],
      "metadata": {
        "id": "c-rNScBGseJt",
        "outputId": "a2fce332-63e4-402c-a83b-b3eb6e6b0d0b",
        "colab": {
          "base_uri": "https://localhost:8080/",
          "height": 432
        }
      },
      "execution_count": null,
      "outputs": [
        {
          "output_type": "display_data",
          "data": {
            "text/plain": [
              "<Figure size 640x480 with 1 Axes>"
            ],
            "image/png": "[encoded data removed]"
          },
          "metadata": {}
        }
      ]
    },
    {
      "cell_type": "code",
      "source": [
        "f = np.fft.fft2(img)\n",
        "fshift = np.fft.fftshift(f)\n",
        "magnitude_spectrum = 20*np.log(np.abs(fshift))"
      ],
      "metadata": {
        "id": "gC-1VbVyzpVw"
      },
      "execution_count": null,
      "outputs": []
    },
    {
      "cell_type": "code",
      "source": [
        "rows, cols = img.shape\n",
        "crow, ccol = rows//2, cols//2"
      ],
      "metadata": {
        "id": "Z1f4OvkUzup2"
      },
      "execution_count": null,
      "outputs": []
    },
    {
      "cell_type": "code",
      "source": [
        "d = 5\n",
        "fshift[crow-d:crow+d, ccol-d:ccol+d] = 1"
      ],
      "metadata": {
        "id": "kGYTdQm7zwBT"
      },
      "execution_count": null,
      "outputs": []
    },
    {
      "cell_type": "code",
      "source": [
        "f_ishift = np.fft.ifftshift(fshift)\n",
        "img_back = np.fft.ifft2(f_ishift)\n",
        "img_back = np.abs(img_back)"
      ],
      "metadata": {
        "id": "ZpqrV5CIz200"
      },
      "execution_count": null,
      "outputs": []
    },
    {
      "cell_type": "code",
      "source": [
        "img_new = np.uint8(img_back);\n",
        "ret, thresh = cv2.threshold(img_new,30,255,cv2.THRESH_BINARY_INV)"
      ],
      "metadata": {
        "id": "YJQEn_smz30a"
      },
      "execution_count": null,
      "outputs": []
    },
    {
      "cell_type": "code",
      "source": [
        "plt.subplot(221),plt.imshow(img, cmap = 'gray')\n",
        "plt.title('Input Image'), plt.xticks([]), plt.yticks([])"
      ],
      "metadata": {
        "id": "JLMcxBdbz6uI",
        "colab": {
          "base_uri": "https://localhost:8080/",
          "height": 245
        },
        "outputId": "97b9d335-5ab8-4131-bca4-f5d807dcc62a"
      },
      "execution_count": null,
      "outputs": [
        {
          "output_type": "execute_result",
          "data": {
            "text/plain": [
              "(Text(0.5, 1.0, 'Input Image'), ([], []), ([], []))"
            ]
          },
          "metadata": {},
          "execution_count": 44
        },
        {
          "output_type": "display_data",
          "data": {
            "text/plain": [
              "<Figure size 640x480 with 1 Axes>"
            ],
            "image/png": "[encoded data removed]"
          },
          "metadata": {}
        }
      ]
    },
    {
      "cell_type": "code",
      "source": [
        "plt.subplot(222),plt.imshow(magnitude_spectrum, cmap = 'gray')\n",
        "plt.title('Spectrum'), plt.xticks([]), plt.yticks([])"
      ],
      "metadata": {
        "id": "JLl128eAz8tW",
        "colab": {
          "base_uri": "https://localhost:8080/",
          "height": 245
        },
        "outputId": "49b7b153-01f1-4724-eaf2-99a0e34cb446"
      },
      "execution_count": null,
      "outputs": [
        {
          "output_type": "execute_result",
          "data": {
            "text/plain": [
              "(Text(0.5, 1.0, 'Spectrum'), ([], []), ([], []))"
            ]
          },
          "metadata": {},
          "execution_count": 45
        },
        {
          "output_type": "display_data",
          "data": {
            "text/plain": [
              "<Figure size 640x480 with 1 Axes>"
            ],
            "image/png": "[encoded data removed]"
          },
          "metadata": {}
        }
      ]
    },
    {
      "cell_type": "code",
      "source": [
        "plt.subplot(223),plt.imshow(img_back, cmap = 'gray')\n",
        "plt.title('FT'), plt.xticks([]), plt.yticks([])"
      ],
      "metadata": {
        "id": "YcbSSeEyz8g8",
        "colab": {
          "base_uri": "https://localhost:8080/",
          "height": 245
        },
        "outputId": "c05ef99d-2c5e-43c6-91be-4641891a1e02"
      },
      "execution_count": null,
      "outputs": [
        {
          "output_type": "execute_result",
          "data": {
            "text/plain": [
              "(Text(0.5, 1.0, 'FT'), ([], []), ([], []))"
            ]
          },
          "metadata": {},
          "execution_count": 46
        },
        {
          "output_type": "display_data",
          "data": {
            "text/plain": [
              "<Figure size 640x480 with 1 Axes>"
            ],
            "image/png": "[encoded data removed]"
          },
          "metadata": {}
        }
      ]
    },
    {
      "cell_type": "code",
      "source": [
        "plt.subplot(224),plt.imshow(thresh, cmap = 'gray')\n",
        "plt.title('Threshold With FT'), plt.xticks([]), plt.yticks([])\n",
        "plt.show()"
      ],
      "metadata": {
        "id": "nZeZp0Yqz_nE",
        "colab": {
          "base_uri": "https://localhost:8080/",
          "height": 227
        },
        "outputId": "c3be1fac-6c35-49b0-9070-3942800606a5"
      },
      "execution_count": null,
      "outputs": [
        {
          "output_type": "display_data",
          "data": {
            "text/plain": [
              "<Figure size 640x480 with 1 Axes>"
            ],
            "image/png": "[encoded data removed]"
          },
          "metadata": {}
        }
      ]
    },
    {
      "cell_type": "code",
      "source": [
        "# 날짜별로 분리해서 차이를 검출할 것\n",
        "# 과거의 패턴과 현재의 패턴을 비교해서 이상치를 검출하는 것이 목표기 때문\n",
        "# 시간 순으로 나눴을 때 이미지를 여러장 겹쳐서 뽑는 느낌으로 진행하자."
      ],
      "metadata": {
        "id": "o3rJpcvcaOc8"
      },
      "execution_count": null,
      "outputs": []
    }
  ]
}